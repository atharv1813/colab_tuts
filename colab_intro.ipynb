{
  "nbformat": 4,
  "nbformat_minor": 0,
  "metadata": {
    "colab": {
      "provenance": [],
      "authorship_tag": "ABX9TyORdA8/GkI4wcfrO5v8kvX1",
      "include_colab_link": true
    },
    "kernelspec": {
      "name": "python3",
      "display_name": "Python 3"
    },
    "language_info": {
      "name": "python"
    }
  },
  "cells": [
    {
      "cell_type": "markdown",
      "metadata": {
        "id": "view-in-github",
        "colab_type": "text"
      },
      "source": [
        "<a href=\"https://colab.research.google.com/github/atharv1813/colab_tuts/blob/main/colab_intro.ipynb\" target=\"_parent\"><img src=\"https://colab.research.google.com/assets/colab-badge.svg\" alt=\"Open In Colab\"/></a>"
      ]
    },
    {
      "cell_type": "code",
      "execution_count": null,
      "metadata": {
        "colab": {
          "base_uri": "https://localhost:8080/"
        },
        "id": "TC-7ROBpXBlh",
        "outputId": "8154f7f7-2c39-48a0-967f-3ce0f23481a3"
      },
      "outputs": [
        {
          "output_type": "stream",
          "name": "stdout",
          "text": [
            "Hello colab\n"
          ]
        }
      ],
      "source": [
        "print(\"Hello colab\")"
      ]
    },
    {
      "cell_type": "code",
      "source": [
        "a = 10\n",
        "b =20\n",
        "c= a + b\n",
        "print (\"Sum = \", c)"
      ],
      "metadata": {
        "colab": {
          "base_uri": "https://localhost:8080/"
        },
        "id": "pRHMdq5WXIqy",
        "outputId": "ebd3946b-5c2c-4d84-bc6a-af2495cde326"
      },
      "execution_count": null,
      "outputs": [
        {
          "output_type": "stream",
          "name": "stdout",
          "text": [
            "Sum =  30\n"
          ]
        }
      ]
    },
    {
      "cell_type": "code",
      "source": [
        "import tensorflow as tf\n",
        "import numpy as np\n",
        "import pandas as pd\n",
        "import seaborn as sns"
      ],
      "metadata": {
        "id": "0YgUQI8WXV24"
      },
      "execution_count": 9,
      "outputs": []
    },
    {
      "cell_type": "code",
      "source": [
        "print(tf.__version__)\n",
        "print(pd.__version__)\n",
        "print(np.__version__)\n",
        "print(sns.__version__)"
      ],
      "metadata": {
        "colab": {
          "base_uri": "https://localhost:8080/"
        },
        "id": "5dfvf4CVuuDd",
        "outputId": "244af9e8-6c9c-4ddb-d8e1-d63762fe2bc1"
      },
      "execution_count": 10,
      "outputs": [
        {
          "output_type": "stream",
          "name": "stdout",
          "text": [
            "2.17.0\n",
            "2.2.2\n",
            "1.26.4\n",
            "0.13.2\n"
          ]
        }
      ]
    },
    {
      "cell_type": "code",
      "source": [
        "!python --version"
      ],
      "metadata": {
        "colab": {
          "base_uri": "https://localhost:8080/"
        },
        "id": "wlxrb8pAuzA6",
        "outputId": "d02ef732-9bf1-4a1d-cdd5-334b839e74a4"
      },
      "execution_count": 11,
      "outputs": [
        {
          "output_type": "stream",
          "name": "stdout",
          "text": [
            "Python 3.10.12\n"
          ]
        }
      ]
    },
    {
      "cell_type": "code",
      "source": [
        "# Python version\n",
        "import sys\n",
        "print(\"Python version:\", sys.version)\n",
        "\n",
        "# Machine learning and deep learning libraries\n",
        "import numpy as np\n",
        "import pandas as pd\n",
        "import tensorflow as tf\n",
        "import torch\n",
        "import sklearn\n",
        "import xgboost\n",
        "\n",
        "print(\"NumPy version:\", np.__version__)\n",
        "print(\"Pandas version:\", pd.__version__)\n",
        "print(\"TensorFlow version:\", tf.__version__)\n",
        "print(\"PyTorch version:\", torch.__version__)\n",
        "print(\"scikit-learn version:\", sklearn.__version__)\n",
        "print(\"XGBoost version:\", xgboost.__version__)\n",
        "\n",
        "# NLP and LLM libraries\n",
        "import transformers\n",
        "import nltk\n",
        "import spacy\n",
        "import gensim\n",
        "\n",
        "print(\"Transformers version:\", transformers.__version__)\n",
        "print(\"NLTK version:\", nltk.__version__)\n",
        "print(\"spaCy version:\", spacy.__version__)\n",
        "print(\"Gensim version:\", gensim.__version__)"
      ],
      "metadata": {
        "colab": {
          "base_uri": "https://localhost:8080/"
        },
        "id": "2wkKWbVTvoqi",
        "outputId": "2bc23248-4577-4878-8dec-90e5431feb68"
      },
      "execution_count": 12,
      "outputs": [
        {
          "output_type": "stream",
          "name": "stdout",
          "text": [
            "Python version: 3.10.12 (main, Sep 11 2024, 15:47:36) [GCC 11.4.0]\n",
            "NumPy version: 1.26.4\n",
            "Pandas version: 2.2.2\n",
            "TensorFlow version: 2.17.0\n",
            "PyTorch version: 2.5.0+cu121\n",
            "scikit-learn version: 1.5.2\n",
            "XGBoost version: 2.1.2\n",
            "Transformers version: 4.44.2\n",
            "NLTK version: 3.8.1\n",
            "spaCy version: 3.7.5\n",
            "Gensim version: 4.3.3\n"
          ]
        }
      ]
    },
    {
      "cell_type": "code",
      "source": [],
      "metadata": {
        "id": "XvwkRW1Awwa8"
      },
      "execution_count": null,
      "outputs": []
    }
  ]
}