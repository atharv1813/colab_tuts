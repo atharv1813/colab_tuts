{
  "nbformat": 4,
  "nbformat_minor": 0,
  "metadata": {
    "colab": {
      "provenance": [],
      "authorship_tag": "ABX9TyOQBqAkSyJ187fEloKk0FH6",
      "include_colab_link": true
    },
    "kernelspec": {
      "name": "python3",
      "display_name": "Python 3"
    },
    "language_info": {
      "name": "python"
    }
  },
  "cells": [
    {
      "cell_type": "markdown",
      "metadata": {
        "id": "view-in-github",
        "colab_type": "text"
      },
      "source": [
        "<a href=\"https://colab.research.google.com/github/atharv1813/colab_tuts/blob/main/Google_colab_intro.ipynb\" target=\"_parent\"><img src=\"https://colab.research.google.com/assets/colab-badge.svg\" alt=\"Open In Colab\"/></a>"
      ]
    },
    {
      "cell_type": "code",
      "execution_count": 1,
      "metadata": {
        "colab": {
          "base_uri": "https://localhost:8080/"
        },
        "id": "6lFCkiTtsX1D",
        "outputId": "db7b1f1f-3074-4a96-e5ad-5ddac48f98a4"
      },
      "outputs": [
        {
          "output_type": "stream",
          "name": "stdout",
          "text": [
            "Hello colab\n"
          ]
        }
      ],
      "source": [
        "print(\"Hello colab\")"
      ]
    },
    {
      "cell_type": "code",
      "source": [
        "a = 10\n",
        "b =20\n",
        "c= a + b\n",
        "print (\"Sum = \", c)"
      ],
      "metadata": {
        "colab": {
          "base_uri": "https://localhost:8080/"
        },
        "id": "3Q6fR_kqsaM9",
        "outputId": "0e3cffdc-9605-432f-fb6f-ec306de52536"
      },
      "execution_count": 2,
      "outputs": [
        {
          "output_type": "stream",
          "name": "stdout",
          "text": [
            "Sum =  30\n"
          ]
        }
      ]
    },
    {
      "cell_type": "code",
      "source": [
        "import tensorflow as tf\n",
        "import numpy as np\n",
        "import pandas as pd\n",
        "import seaborn as sns"
      ],
      "metadata": {
        "id": "jGK3j855scBV"
      },
      "execution_count": 3,
      "outputs": []
    },
    {
      "cell_type": "code",
      "source": [
        "print(tf.__version__)\n",
        "print(pd.__version__)\n",
        "print(np.__version__)\n",
        "print(sns.__version__)"
      ],
      "metadata": {
        "colab": {
          "base_uri": "https://localhost:8080/"
        },
        "id": "DZmSvsCosdoR",
        "outputId": "ff2b3513-41db-4a3e-8fc3-d01921d86ac5"
      },
      "execution_count": 4,
      "outputs": [
        {
          "output_type": "stream",
          "name": "stdout",
          "text": [
            "2.17.0\n",
            "2.2.2\n",
            "1.26.4\n",
            "0.13.2\n"
          ]
        }
      ]
    },
    {
      "cell_type": "code",
      "source": [
        "!python --version"
      ],
      "metadata": {
        "colab": {
          "base_uri": "https://localhost:8080/"
        },
        "id": "gVR_0Eirsfbp",
        "outputId": "4cbf204b-8e0e-4c20-b44d-542d48c5d8ff"
      },
      "execution_count": 5,
      "outputs": [
        {
          "output_type": "stream",
          "name": "stdout",
          "text": [
            "Python 3.10.12\n"
          ]
        }
      ]
    },
    {
      "cell_type": "code",
      "source": [
        "# Python version\n",
        "import sys\n",
        "print(\"Python version:\", sys.version)\n",
        "\n",
        "# Machine learning and deep learning libraries\n",
        "import numpy as np\n",
        "import pandas as pd\n",
        "import tensorflow as tf\n",
        "import torch\n",
        "import sklearn\n",
        "import xgboost\n",
        "\n",
        "print(\"NumPy version:\", np.__version__)\n",
        "print(\"Pandas version:\", pd.__version__)\n",
        "print(\"TensorFlow version:\", tf.__version__)\n",
        "print(\"PyTorch version:\", torch.__version__)\n",
        "print(\"scikit-learn version:\", sklearn.__version__)\n",
        "print(\"XGBoost version:\", xgboost.__version__)\n",
        "\n",
        "# NLP and LLM libraries\n",
        "import transformers\n",
        "import nltk\n",
        "import spacy\n",
        "import gensim\n",
        "\n",
        "print(\"Transformers version:\", transformers.__version__)\n",
        "print(\"NLTK version:\", nltk.__version__)\n",
        "print(\"spaCy version:\", spacy.__version__)\n",
        "print(\"Gensim version:\", gensim.__version__)"
      ],
      "metadata": {
        "colab": {
          "base_uri": "https://localhost:8080/"
        },
        "id": "NBuPX1X3shvY",
        "outputId": "ad6365a8-ef8b-40f5-db11-08df7bd9d502"
      },
      "execution_count": 6,
      "outputs": [
        {
          "output_type": "stream",
          "name": "stdout",
          "text": [
            "Python version: 3.10.12 (main, Sep 11 2024, 15:47:36) [GCC 11.4.0]\n",
            "NumPy version: 1.26.4\n",
            "Pandas version: 2.2.2\n",
            "TensorFlow version: 2.17.0\n",
            "PyTorch version: 2.5.0+cu121\n",
            "scikit-learn version: 1.5.2\n",
            "XGBoost version: 2.1.2\n",
            "Transformers version: 4.44.2\n",
            "NLTK version: 3.8.1\n",
            "spaCy version: 3.7.5\n",
            "Gensim version: 4.3.3\n"
          ]
        }
      ]
    },
    {
      "cell_type": "code",
      "source": [],
      "metadata": {
        "id": "95kzoN5isjoy"
      },
      "execution_count": null,
      "outputs": []
    }
  ]
}